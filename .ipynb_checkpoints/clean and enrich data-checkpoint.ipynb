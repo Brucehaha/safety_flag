{
 "cells": [
  {
   "cell_type": "code",
   "execution_count": 2,
   "metadata": {},
   "outputs": [],
   "source": [
    "import pandas as pd\n",
    "import csv\n",
    "from demyst.analytics import Analytics\n",
    "\n",
    "\n",
    "analytics = Analytics(username=\"apac.candidate.bruceli@demystdata.com\", password=\"1qaz@WSX3edc\")\n",
    "#read file\n",
    "inputs = pd.read_csv('input_file.csv', encoding=\"ISO-8859-1\")\n"
   ]
  },
  {
   "cell_type": "markdown",
   "metadata": {},
   "source": [
    "# 1. clean and enrich data"
   ]
  },
  {
   "cell_type": "markdown",
   "metadata": {},
   "source": [
    "## a. Clean data - 1st Time\n",
    "    Initially, clean the data according to analytics.validate(inputs)"
   ]
  },
  {
   "cell_type": "code",
   "execution_count": 3,
   "metadata": {},
   "outputs": [],
   "source": [
    "inputs.dropna(inplace=True)\n",
    "# change postcode to the suggested name of analytics.validate\n",
    "inputs.rename(columns={\"postcode\":\"post_code\"}, inplace=True)\n",
    "# clean white spaces\n",
    "inputs['state'] = inputs['state'].str.strip()\n",
    "# attom_expanded_profile_report payload need country to get response\n",
    "inputs['country'] = 'US'"
   ]
  },
  {
   "cell_type": "code",
   "execution_count": 4,
   "metadata": {},
   "outputs": [
    {
     "data": {
      "text/html": [
       "<h4>Input Types Detected</h4><table><tr><th>Column</th><th>Type</th><th>Error %</th></tr><tr><td>street</td><td>Street</td><td>0.0</td></tr><tr><td>state</td><td>State</td><td>0.0</td></tr><tr><td>city</td><td>City</td><td>0.0</td></tr><tr><td>post_code</td><td>PostCode</td><td>0.0</td></tr><tr><td>country</td><td>Country</td><td>0.0</td></tr></table><h4>Input Types Suggested</h4><table><tr><th>Column</th><th>Suggestions</th></tr><tr><td>safety_flag</td><td>This column should be of type string</td></tr></table>"
      ],
      "text/plain": [
       "<IPython.core.display.HTML object>"
      ]
     },
     "execution_count": 4,
     "metadata": {},
     "output_type": "execute_result"
    }
   ],
   "source": [
    "#validate input data\n",
    "analytics.validate(inputs)"
   ]
  },
  {
   "cell_type": "markdown",
   "metadata": {},
   "source": [
    "## b. Enrich Data - 1st Time"
   ]
  },
  {
   "cell_type": "code",
   "execution_count": 5,
   "metadata": {},
   "outputs": [
    {
     "data": {
      "text/html": [
       "<div style=\"\"><div style=\"pading:10px;\"><div style=\"padding:5px\"><h1><img height=\"30\" width=\"30\" src=\"https://console.demystdata.com/assets/attom-018667395fd6d2e395ec7079d09434844d7ef98d02dac7c32e8bcb6c326145f1.svg\" style=\"display:inline-block\" /> Attom</h1><pre style=\"\">attom_expanded_profile_report</pre><p><em>Retrieve Attom's internal reference ID for a property in order to search public property records including real estate data: sale, ownership, tax, and more - for more than 150 million U.S. properties.</em></p></div><div style=\"padding: 5px;\"><table><tr><th> </th><th>state</th><th>street</th><th>country</th><th>city</th><th>post_code</th></tr><tr><td>Option 1</td><td><span style=\"font-size: 20px;\">☒</span></td><td><span style=\"font-size: 20px;\">☒</span></td><td><span style=\"font-size: 20px;\">☒</span></td><td><span style=\"font-size: 20px;\">☒</span></td><td><span style=\"font-size: 20px;\">☒</span></td></tr></table></div></div></div>"
      ],
      "text/plain": [
       "<IPython.core.display.HTML object>"
      ]
     },
     "execution_count": 5,
     "metadata": {},
     "output_type": "execute_result"
    }
   ],
   "source": [
    "# search related data provider \n",
    "analytics.search(inputs)\n"
   ]
  },
  {
   "cell_type": "code",
   "execution_count": 6,
   "metadata": {},
   "outputs": [
    {
     "data": {
      "text/html": [
       "<div>\n",
       "<style scoped>\n",
       "    .dataframe tbody tr th:only-of-type {\n",
       "        vertical-align: middle;\n",
       "    }\n",
       "\n",
       "    .dataframe tbody tr th {\n",
       "        vertical-align: top;\n",
       "    }\n",
       "\n",
       "    .dataframe thead th {\n",
       "        text-align: right;\n",
       "    }\n",
       "</style>\n",
       "<table border=\"1\" class=\"dataframe\">\n",
       "  <thead>\n",
       "    <tr style=\"text-align: right;\">\n",
       "      <th></th>\n",
       "      <th>street</th>\n",
       "      <th>state</th>\n",
       "      <th>city</th>\n",
       "      <th>post_code</th>\n",
       "      <th>safety_flag</th>\n",
       "      <th>country</th>\n",
       "    </tr>\n",
       "  </thead>\n",
       "  <tbody>\n",
       "    <tr>\n",
       "      <th>6197</th>\n",
       "      <td>2134 Lincoln Park Drive</td>\n",
       "      <td>MI</td>\n",
       "      <td>Muskegon</td>\n",
       "      <td>49441</td>\n",
       "      <td>False</td>\n",
       "      <td>US</td>\n",
       "    </tr>\n",
       "    <tr>\n",
       "      <th>7974</th>\n",
       "      <td>222 Robert Lane</td>\n",
       "      <td>TX</td>\n",
       "      <td>El Campo</td>\n",
       "      <td>77437</td>\n",
       "      <td>False</td>\n",
       "      <td>US</td>\n",
       "    </tr>\n",
       "    <tr>\n",
       "      <th>2153</th>\n",
       "      <td>300 Affeld Lane</td>\n",
       "      <td>TX</td>\n",
       "      <td>Smithville</td>\n",
       "      <td>78957</td>\n",
       "      <td>False</td>\n",
       "      <td>US</td>\n",
       "    </tr>\n",
       "    <tr>\n",
       "      <th>3284</th>\n",
       "      <td>115 Private Road 2131</td>\n",
       "      <td>TX</td>\n",
       "      <td>Iredell</td>\n",
       "      <td>76649-4602</td>\n",
       "      <td>False</td>\n",
       "      <td>US</td>\n",
       "    </tr>\n",
       "    <tr>\n",
       "      <th>6511</th>\n",
       "      <td>6570 Lexi Ln Apt 102</td>\n",
       "      <td>NC</td>\n",
       "      <td>Fayetteville</td>\n",
       "      <td>28314-0443</td>\n",
       "      <td>False</td>\n",
       "      <td>US</td>\n",
       "    </tr>\n",
       "  </tbody>\n",
       "</table>\n",
       "</div>"
      ],
      "text/plain": [
       "                       street state          city   post_code  safety_flag  \\\n",
       "6197  2134 Lincoln Park Drive    MI      Muskegon       49441        False   \n",
       "7974          222 Robert Lane    TX      El Campo       77437        False   \n",
       "2153          300 Affeld Lane    TX    Smithville       78957        False   \n",
       "3284    115 Private Road 2131    TX       Iredell  76649-4602        False   \n",
       "6511     6570 Lexi Ln Apt 102    NC  Fayetteville  28314-0443        False   \n",
       "\n",
       "     country  \n",
       "6197      US  \n",
       "7974      US  \n",
       "2153      US  \n",
       "3284      US  \n",
       "6511      US  "
      ]
     },
     "execution_count": 6,
     "metadata": {},
     "output_type": "execute_result"
    }
   ],
   "source": [
    "# get small sample inputs data \n",
    "sample_inputs = inputs.sample(n=1000, random_state=0)\n",
    "sample_inputs.head()"
   ]
  },
  {
   "cell_type": "code",
   "execution_count": 56,
   "metadata": {},
   "outputs": [
    {
     "name": "stdout",
     "output_type": "stream",
     "text": [
      "Verifying providers...\n",
      "Starting enrichment...\n",
      "Uploading data...\n"
     ]
    },
    {
     "name": "stderr",
     "output_type": "stream",
     "text": [
      "This enrichment will use 2700 credits of the 17161 credits your organization currently has.\n"
     ]
    },
    {
     "name": "stdout",
     "output_type": "stream",
     "text": [
      "Enrich Job ID: 6137\n"
     ]
    }
   ],
   "source": [
    "# send sample data back to server and get enriched\n",
    "enrich_job_id = analytics.enrich(['attom_expanded_profile_report'], sample_inputs, validate=False)\n"
   ]
  },
  {
   "cell_type": "code",
   "execution_count": 8,
   "metadata": {},
   "outputs": [
    {
     "name": "stdout",
     "output_type": "stream",
     "text": [
      "attom_expanded_profile_report (done)\n"
     ]
    },
    {
     "data": {
      "text/plain": [
       "True"
      ]
     },
     "execution_count": 8,
     "metadata": {},
     "output_type": "execute_result"
    }
   ],
   "source": [
    "# check the availability of the enriched data\n",
    "# delete this row if you want try get new data for enrichment\n",
    "enrich_job_id = 6137\n",
    "\n",
    "analytics.enrich_status(enrich_job_id)"
   ]
  },
  {
   "cell_type": "code",
   "execution_count": 9,
   "metadata": {},
   "outputs": [
    {
     "data": {
      "text/html": [
       "<div>\n",
       "<style scoped>\n",
       "    .dataframe tbody tr th:only-of-type {\n",
       "        vertical-align: middle;\n",
       "    }\n",
       "\n",
       "    .dataframe tbody tr th {\n",
       "        vertical-align: top;\n",
       "    }\n",
       "\n",
       "    .dataframe thead th {\n",
       "        text-align: right;\n",
       "    }\n",
       "</style>\n",
       "<table border=\"1\" class=\"dataframe\">\n",
       "  <thead>\n",
       "    <tr style=\"text-align: right;\">\n",
       "      <th></th>\n",
       "      <th>inputs.city</th>\n",
       "      <th>inputs.country</th>\n",
       "      <th>inputs.post_code</th>\n",
       "      <th>inputs.safety_flag</th>\n",
       "      <th>inputs.state</th>\n",
       "      <th>inputs.street</th>\n",
       "      <th>attom_expanded_profile_report.row_id</th>\n",
       "      <th>attom_expanded_profile_report.client_id</th>\n",
       "      <th>attom_expanded_profile_report.attom_id</th>\n",
       "      <th>attom_expanded_profile_report.error</th>\n",
       "    </tr>\n",
       "  </thead>\n",
       "  <tbody>\n",
       "    <tr>\n",
       "      <th>0</th>\n",
       "      <td>Muskegon</td>\n",
       "      <td>US</td>\n",
       "      <td>49441</td>\n",
       "      <td>False</td>\n",
       "      <td>MI</td>\n",
       "      <td>2134 Lincoln Park Drive</td>\n",
       "      <td>0</td>\n",
       "      <td></td>\n",
       "      <td>172292268</td>\n",
       "      <td></td>\n",
       "    </tr>\n",
       "    <tr>\n",
       "      <th>1</th>\n",
       "      <td>El Campo</td>\n",
       "      <td>US</td>\n",
       "      <td>77437</td>\n",
       "      <td>False</td>\n",
       "      <td>TX</td>\n",
       "      <td>222 Robert Lane</td>\n",
       "      <td>1</td>\n",
       "      <td></td>\n",
       "      <td></td>\n",
       "      <td></td>\n",
       "    </tr>\n",
       "    <tr>\n",
       "      <th>2</th>\n",
       "      <td>Smithville</td>\n",
       "      <td>US</td>\n",
       "      <td>78957</td>\n",
       "      <td>False</td>\n",
       "      <td>TX</td>\n",
       "      <td>300 Affeld Lane</td>\n",
       "      <td>2</td>\n",
       "      <td></td>\n",
       "      <td>8328494</td>\n",
       "      <td></td>\n",
       "    </tr>\n",
       "    <tr>\n",
       "      <th>3</th>\n",
       "      <td>Iredell</td>\n",
       "      <td>US</td>\n",
       "      <td>76649-4602</td>\n",
       "      <td>False</td>\n",
       "      <td>TX</td>\n",
       "      <td>115 Private Road 2131</td>\n",
       "      <td>3</td>\n",
       "      <td></td>\n",
       "      <td>216350563</td>\n",
       "      <td></td>\n",
       "    </tr>\n",
       "    <tr>\n",
       "      <th>4</th>\n",
       "      <td>Fayetteville</td>\n",
       "      <td>US</td>\n",
       "      <td>28314-0443</td>\n",
       "      <td>False</td>\n",
       "      <td>NC</td>\n",
       "      <td>6570 Lexi Ln Apt 102</td>\n",
       "      <td>4</td>\n",
       "      <td></td>\n",
       "      <td></td>\n",
       "      <td></td>\n",
       "    </tr>\n",
       "  </tbody>\n",
       "</table>\n",
       "</div>"
      ],
      "text/plain": [
       "    inputs.city inputs.country inputs.post_code  inputs.safety_flag  \\\n",
       "0      Muskegon             US            49441               False   \n",
       "1      El Campo             US            77437               False   \n",
       "2    Smithville             US            78957               False   \n",
       "3       Iredell             US       76649-4602               False   \n",
       "4  Fayetteville             US       28314-0443               False   \n",
       "\n",
       "  inputs.state            inputs.street  attom_expanded_profile_report.row_id  \\\n",
       "0           MI  2134 Lincoln Park Drive                                     0   \n",
       "1           TX          222 Robert Lane                                     1   \n",
       "2           TX          300 Affeld Lane                                     2   \n",
       "3           TX    115 Private Road 2131                                     3   \n",
       "4           NC     6570 Lexi Ln Apt 102                                     4   \n",
       "\n",
       "  attom_expanded_profile_report.client_id  \\\n",
       "0                                           \n",
       "1                                           \n",
       "2                                           \n",
       "3                                           \n",
       "4                                           \n",
       "\n",
       "  attom_expanded_profile_report.attom_id attom_expanded_profile_report.error  \n",
       "0                              172292268                                      \n",
       "1                                                                             \n",
       "2                                8328494                                      \n",
       "3                              216350563                                      \n",
       "4                                                                             "
      ]
     },
     "execution_count": 9,
     "metadata": {},
     "output_type": "execute_result"
    }
   ],
   "source": [
    "# download enriched data\n",
    "results = analytics.enrich_download(enrich_job_id, block_until_complete=False)\n",
    "\n",
    "results.head()"
   ]
  },
  {
   "cell_type": "markdown",
   "metadata": {},
   "source": [
    "## 3. Clean Data- 2nd Time\n",
    "    clean the enriched data, and then clean data again preparing for enrich more features  "
   ]
  },
  {
   "cell_type": "code",
   "execution_count": 10,
   "metadata": {},
   "outputs": [
    {
     "data": {
      "text/html": [
       "<div>\n",
       "<style scoped>\n",
       "    .dataframe tbody tr th:only-of-type {\n",
       "        vertical-align: middle;\n",
       "    }\n",
       "\n",
       "    .dataframe tbody tr th {\n",
       "        vertical-align: top;\n",
       "    }\n",
       "\n",
       "    .dataframe thead th {\n",
       "        text-align: right;\n",
       "    }\n",
       "</style>\n",
       "<table border=\"1\" class=\"dataframe\">\n",
       "  <thead>\n",
       "    <tr style=\"text-align: right;\">\n",
       "      <th></th>\n",
       "      <th>city</th>\n",
       "      <th>country</th>\n",
       "      <th>post_code</th>\n",
       "      <th>safety_flag</th>\n",
       "      <th>state</th>\n",
       "      <th>street</th>\n",
       "      <th>row_id</th>\n",
       "      <th>client_id</th>\n",
       "      <th>attom_id</th>\n",
       "      <th>error</th>\n",
       "    </tr>\n",
       "  </thead>\n",
       "  <tbody>\n",
       "    <tr>\n",
       "      <th>0</th>\n",
       "      <td>Muskegon</td>\n",
       "      <td>US</td>\n",
       "      <td>49441</td>\n",
       "      <td>False</td>\n",
       "      <td>MI</td>\n",
       "      <td>2134 Lincoln Park Drive</td>\n",
       "      <td>0</td>\n",
       "      <td></td>\n",
       "      <td>172292268</td>\n",
       "      <td></td>\n",
       "    </tr>\n",
       "    <tr>\n",
       "      <th>1</th>\n",
       "      <td>El Campo</td>\n",
       "      <td>US</td>\n",
       "      <td>77437</td>\n",
       "      <td>False</td>\n",
       "      <td>TX</td>\n",
       "      <td>222 Robert Lane</td>\n",
       "      <td>1</td>\n",
       "      <td></td>\n",
       "      <td></td>\n",
       "      <td></td>\n",
       "    </tr>\n",
       "    <tr>\n",
       "      <th>2</th>\n",
       "      <td>Smithville</td>\n",
       "      <td>US</td>\n",
       "      <td>78957</td>\n",
       "      <td>False</td>\n",
       "      <td>TX</td>\n",
       "      <td>300 Affeld Lane</td>\n",
       "      <td>2</td>\n",
       "      <td></td>\n",
       "      <td>8328494</td>\n",
       "      <td></td>\n",
       "    </tr>\n",
       "    <tr>\n",
       "      <th>3</th>\n",
       "      <td>Iredell</td>\n",
       "      <td>US</td>\n",
       "      <td>76649-4602</td>\n",
       "      <td>False</td>\n",
       "      <td>TX</td>\n",
       "      <td>115 Private Road 2131</td>\n",
       "      <td>3</td>\n",
       "      <td></td>\n",
       "      <td>216350563</td>\n",
       "      <td></td>\n",
       "    </tr>\n",
       "    <tr>\n",
       "      <th>4</th>\n",
       "      <td>Fayetteville</td>\n",
       "      <td>US</td>\n",
       "      <td>28314-0443</td>\n",
       "      <td>False</td>\n",
       "      <td>NC</td>\n",
       "      <td>6570 Lexi Ln Apt 102</td>\n",
       "      <td>4</td>\n",
       "      <td></td>\n",
       "      <td></td>\n",
       "      <td></td>\n",
       "    </tr>\n",
       "  </tbody>\n",
       "</table>\n",
       "</div>"
      ],
      "text/plain": [
       "           city country   post_code  safety_flag state  \\\n",
       "0      Muskegon      US       49441        False    MI   \n",
       "1      El Campo      US       77437        False    TX   \n",
       "2    Smithville      US       78957        False    TX   \n",
       "3       Iredell      US  76649-4602        False    TX   \n",
       "4  Fayetteville      US  28314-0443        False    NC   \n",
       "\n",
       "                    street  row_id client_id   attom_id error  \n",
       "0  2134 Lincoln Park Drive       0            172292268        \n",
       "1          222 Robert Lane       1                             \n",
       "2          300 Affeld Lane       2              8328494        \n",
       "3    115 Private Road 2131       3            216350563        \n",
       "4     6570 Lexi Ln Apt 102       4                             "
      ]
     },
     "execution_count": 10,
     "metadata": {},
     "output_type": "execute_result"
    }
   ],
   "source": [
    "# reanme the column of the results data prepare for analytics.search\n",
    "results.columns = results.columns.map(lambda x : x.split('.')[1])\n",
    "results.head()"
   ]
  },
  {
   "cell_type": "code",
   "execution_count": 11,
   "metadata": {},
   "outputs": [],
   "source": [
    "# drop unnecessary columns\n",
    "results.drop(columns=['row_id', 'client_id', 'error'], inplace=True)"
   ]
  },
  {
   "cell_type": "code",
   "execution_count": 12,
   "metadata": {},
   "outputs": [
    {
     "data": {
      "text/plain": [
       "0"
      ]
     },
     "execution_count": 12,
     "metadata": {},
     "output_type": "execute_result"
    }
   ],
   "source": [
    "sum(results.duplicated())"
   ]
  },
  {
   "cell_type": "code",
   "execution_count": 13,
   "metadata": {},
   "outputs": [
    {
     "data": {
      "text/plain": [
       "204"
      ]
     },
     "execution_count": 13,
     "metadata": {},
     "output_type": "execute_result"
    }
   ],
   "source": [
    "#check empty cell\n",
    "sum(results['attom_id']=='')"
   ]
  },
  {
   "cell_type": "code",
   "execution_count": 14,
   "metadata": {},
   "outputs": [
    {
     "data": {
      "text/plain": [
       "0"
      ]
     },
     "execution_count": 14,
     "metadata": {},
     "output_type": "execute_result"
    }
   ],
   "source": [
    "sum(results['attom_id'].isna())"
   ]
  },
  {
   "cell_type": "code",
   "execution_count": 15,
   "metadata": {},
   "outputs": [
    {
     "data": {
      "text/plain": [
       "0"
      ]
     },
     "execution_count": 15,
     "metadata": {},
     "output_type": "execute_result"
    }
   ],
   "source": [
    "# check null value\n",
    "sum(results['attom_id'].isnull())"
   ]
  },
  {
   "cell_type": "code",
   "execution_count": 16,
   "metadata": {},
   "outputs": [],
   "source": [
    "outputs = results[results['attom_id']!='']"
   ]
  },
  {
   "cell_type": "code",
   "execution_count": 17,
   "metadata": {},
   "outputs": [
    {
     "data": {
      "text/html": [
       "<h4>Input Types Detected</h4><table><tr><th>Column</th><th>Type</th><th>Error %</th></tr><tr><td>city</td><td>City</td><td>0.0</td></tr><tr><td>country</td><td>Country</td><td>0.0</td></tr><tr><td>post_code</td><td>PostCode</td><td>0.0</td></tr><tr><td>state</td><td>State</td><td>0.0</td></tr><tr><td>street</td><td>Street</td><td>0.0</td></tr></table><h4>Input Types Suggested</h4><table><tr><th>Column</th><th>Suggestions</th></tr><tr><td>safety_flag</td><td>This column should be of type string</td></tr><tr><td>attom_id</td><td>PostCode (hit rate: 100.0%), Percentage (hit rate: 100.0%), Number (hit rate: 100.0%), UsEin (hit rate: 56.9%), UsSsn (hit rate: 56.9%)</td></tr></table>"
      ],
      "text/plain": [
       "<IPython.core.display.HTML object>"
      ]
     },
     "execution_count": 17,
     "metadata": {},
     "output_type": "execute_result"
    }
   ],
   "source": [
    "# validate data preparing for searching more related data\n",
    "analytics.validate(outputs)"
   ]
  },
  {
   "cell_type": "code",
   "execution_count": 103,
   "metadata": {},
   "outputs": [],
   "source": [
    "outputs.to_dense().to_csv('outputs.csv', index = False, sep=',', encoding='utf-8')\n"
   ]
  },
  {
   "cell_type": "markdown",
   "metadata": {},
   "source": [
    "## 4. Enrich data - 2nd Time"
   ]
  },
  {
   "cell_type": "code",
   "execution_count": 104,
   "metadata": {},
   "outputs": [
    {
     "data": {
      "text/html": [
       "<div style=\"\"><div style=\"pading:10px;\"><div style=\"padding:5px\"><h1><img height=\"30\" width=\"30\" src=\"https://console.demystdata.com/assets/attom-018667395fd6d2e395ec7079d09434844d7ef98d02dac7c32e8bcb6c326145f1.svg\" style=\"display:inline-block\" /> Attom</h1><pre style=\"\">attom_expanded_profile_report</pre><p><em>Retrieve Attom's internal reference ID for a property in order to search public property records including real estate data: sale, ownership, tax, and more - for more than 150 million U.S. properties.</em></p></div><div style=\"padding: 5px;\"><table><tr><th> </th><th>state</th><th>country</th><th>street</th><th>post_code</th><th>city</th></tr><tr><td>Option 1</td><td><span style=\"font-size: 20px;\">☒</span></td><td><span style=\"font-size: 20px;\">☒</span></td><td><span style=\"font-size: 20px;\">☒</span></td><td><span style=\"font-size: 20px;\">☒</span></td><td><span style=\"font-size: 20px;\">☒</span></td></tr></table></div></div></div><div style=\"\"><div style=\"pading:10px;\"><div style=\"padding:5px\"><h1><img height=\"30\" width=\"30\" src=\"https://console.demystdata.com/assets/attom-018667395fd6d2e395ec7079d09434844d7ef98d02dac7c32e8bcb6c326145f1.svg\" style=\"display:inline-block\" /> Attom</h1><pre style=\"\">attom_tax_assessor</pre><p><em>Attom Tax Assessor provides publicly available information collected by county tax assessor offices.  Attom is a database that contains public property records including real estate data (sale, ownership, tax, and more) for more than 150 million U.S. properties. All the data Attom collects is publicly recorded.\r\n",
       "</em></p></div><div style=\"padding: 5px;\"><table><tr><th> </th><th>unit_count_low</th><th>unit_count</th><th>unit_count_comparison_operator</th><th>propertyaddressstate</th><th>attom_id</th><th>unit_count_high</th></tr><tr><td>Option 1</td><td><span style=\"font-size: 20px;\">☐</span></td><td><span style=\"font-size: 20px;\">☐</span></td><td><span style=\"font-size: 20px;\">☐</span></td><td><span style=\"font-size: 20px;\">☐</span></td><td><span style=\"font-size: 20px;\">☒</span></td><td><span style=\"font-size: 20px;\">☐</span></td></tr></table></div></div></div><div style=\"\"><div style=\"pading:10px;\"><div style=\"padding:5px\"><h1><img height=\"30\" width=\"30\" src=\"https://console.demystdata.com/assets/attom-018667395fd6d2e395ec7079d09434844d7ef98d02dac7c32e8bcb6c326145f1.svg\" style=\"display:inline-block\" /> Attom</h1><pre style=\"\">attom_recorder</pre><p><em>Attom Recorder provides recorder and deed information on properties including real-estate transactions involving properties throughout the United States.  This data set contains primarily residential properties within the US.  ATTOM blends property tax, deed, mortgage, foreclosure, environmental risk, natural hazard and neighborhood data for more than 155 million U.S. residential and commercial properties multi-sourced from more than 3,000 U.S. counties.\r\n",
       "</em></p></div><div style=\"padding: 5px;\"><table><tr><th> </th><th>transactionid</th><th>attom_id</th></tr><tr><td>Option 1</td><td><span style=\"font-size: 20px;\">☐</span></td><td><span style=\"font-size: 20px;\">☒</span></td></tr></table></div></div></div><div style=\"\"><div style=\"pading:10px;\"><div style=\"padding:5px\"><h1><img height=\"30\" width=\"30\" src=\"https://console.demystdata.com/assets/attom-018667395fd6d2e395ec7079d09434844d7ef98d02dac7c32e8bcb6c326145f1.svg\" style=\"display:inline-block\" /> Attom</h1><pre style=\"\">attom_pre_foreclosure</pre><p><em>Attom Pre-Foreclosure provides pre-forclosure notices and relevant property data. This data set contains primarily residential properties within the US.  ATTOM blends property tax, deed, mortgage, foreclosure, environmental risk, natural hazard and neighborhood data for more than 155 million U.S. residential and commercial properties multi-sourced from more than 3,000 U.S. counties.\r\n",
       "</em></p></div><div style=\"padding: 5px;\"><table><tr><th> </th><th>transactionid</th><th>attom_id</th></tr><tr><td>Option 1</td><td><span style=\"font-size: 20px;\">☐</span></td><td><span style=\"font-size: 20px;\">☒</span></td></tr></table></div></div></div><div style=\"\"><div style=\"pading:10px;\"><div style=\"padding:5px\"><h1><img height=\"30\" width=\"30\" src=\"https://console.demystdata.com/assets/attom-018667395fd6d2e395ec7079d09434844d7ef98d02dac7c32e8bcb6c326145f1.svg\" style=\"display:inline-block\" /> Attom</h1><pre style=\"\">attom_avm</pre><p><em>Attom Commerical AVM (automated valuation model) Value is a statistical calculation model to estimate the current value of a property.  This data set contains primarily residential properties within the US.  ATTOM blends property tax, deed, mortgage, foreclosure, environmental risk, natural hazard and neighborhood data for more than 155 million U.S. residential and commercial properties multi-sourced from more than 3,000 U.S. counties.</em></p></div><div style=\"padding: 5px;\"><table><tr><th> </th><th>attom_id</th></tr><tr><td>Option 1</td><td><span style=\"font-size: 20px;\">☒</span></td></tr></table></div></div></div><div style=\"\"><div style=\"pading:10px;\"><div style=\"padding:5px\"><h1><img height=\"30\" width=\"30\" src=\"https://console.demystdata.com/assets/attom-018667395fd6d2e395ec7079d09434844d7ef98d02dac7c32e8bcb6c326145f1.svg\" style=\"display:inline-block\" /> Attom</h1><pre style=\"\">attom_commercial_tax_assessor</pre><p><em>Attom Commerical Tax Assessor Data provides publicly available information collected by county tax assessor offices including property details and ownership information.  This data set contains primarily commercial properties within the US.  ATTOM blends property tax, deed, mortgage, foreclosure, environmental risk, natural hazard and neighborhood data for more than 155 million U.S. residential and commercial properties multi-sourced from more than 3,000 U.S. counties.</em></p></div><div style=\"padding: 5px;\"><table><tr><th> </th><th>unit_count_low</th><th>unit_count</th><th>unit_count_comparison_operator</th><th>propertyaddressstate</th><th>attom_id</th><th>unit_count_high</th></tr><tr><td>Option 1</td><td><span style=\"font-size: 20px;\">☐</span></td><td><span style=\"font-size: 20px;\">☐</span></td><td><span style=\"font-size: 20px;\">☐</span></td><td><span style=\"font-size: 20px;\">☐</span></td><td><span style=\"font-size: 20px;\">☒</span></td><td><span style=\"font-size: 20px;\">☐</span></td></tr></table></div></div></div><div style=\"\"><div style=\"pading:10px;\"><div style=\"padding:5px\"><h1><img height=\"30\" width=\"30\" src=\"https://console.demystdata.com/assets/attom-018667395fd6d2e395ec7079d09434844d7ef98d02dac7c32e8bcb6c326145f1.svg\" style=\"display:inline-block\" /> Attom</h1><pre style=\"\">attom_commercial_pre_foreclosure</pre><p><em>Attom Commerical Pre-Foreclosure Data aggregates data from Notice of Default (NODs) and Lis Pendens (LIS) submissions.  This data set contains primarily commercial properties within the US.  ATTOM blends property tax, deed, mortgage, foreclosure, environmental risk, natural hazard and neighborhood data for more than 155 million U.S. residential and commercial properties multi-sourced from more than 3,000 U.S. counties.</em></p></div><div style=\"padding: 5px;\"><table><tr><th> </th><th>transactionid</th><th>attom_id</th></tr><tr><td>Option 1</td><td><span style=\"font-size: 20px;\">☐</span></td><td><span style=\"font-size: 20px;\">☒</span></td></tr></table></div></div></div><div style=\"\"><div style=\"pading:10px;\"><div style=\"padding:5px\"><h1><img height=\"30\" width=\"30\" src=\"https://console.demystdata.com/assets/attom-018667395fd6d2e395ec7079d09434844d7ef98d02dac7c32e8bcb6c326145f1.svg\" style=\"display:inline-block\" /> Attom</h1><pre style=\"\">attom_commercial_avm</pre><p><em>Attom Commerical AVM (automated valuation model) Value is a statistical calculation model to estimate the current value of a property.  This data set contains primarily commercial properties within the US.  ATTOM blends property tax, deed, mortgage, foreclosure, environmental risk, natural hazard and neighborhood data for more than 155 million U.S. residential and commercial properties multi-sourced from more than 3,000 U.S. counties.</em></p></div><div style=\"padding: 5px;\"><table><tr><th> </th><th>attom_id</th></tr><tr><td>Option 1</td><td><span style=\"font-size: 20px;\">☒</span></td></tr></table></div></div></div><div style=\"\"><div style=\"pading:10px;\"><div style=\"padding:5px\"><h1><img height=\"30\" width=\"30\" src=\"https://console.demystdata.com/assets/attom-018667395fd6d2e395ec7079d09434844d7ef98d02dac7c32e8bcb6c326145f1.svg\" style=\"display:inline-block\" /> Attom</h1><pre style=\"\">attom_commercial_recorder</pre><p><em>Attom Commerical Recorder Data provides data derived from public records and documents on real estate transactions (sales deeds and mortgages) involving properties.  This data set contains primarily commercial properties within the US.  ATTOM blends property tax, deed, mortgage, foreclosure, environmental risk, natural hazard and neighborhood data for more than 155 million U.S. residential and commercial properties multi-sourced from more than 3,000 U.S. counties.</em></p></div><div style=\"padding: 5px;\"><table><tr><th> </th><th>transactionid</th><th>attom_id</th></tr><tr><td>Option 1</td><td><span style=\"font-size: 20px;\">☐</span></td><td><span style=\"font-size: 20px;\">☒</span></td></tr></table></div></div></div>"
      ],
      "text/plain": [
       "<IPython.core.display.HTML object>"
      ]
     },
     "execution_count": 104,
     "metadata": {},
     "output_type": "execute_result"
    }
   ],
   "source": [
    "analytics.search(outputs)\n"
   ]
  },
  {
   "cell_type": "code",
   "execution_count": 105,
   "metadata": {},
   "outputs": [
    {
     "name": "stdout",
     "output_type": "stream",
     "text": [
      "Verifying providers...\n",
      "Starting enrichment...\n",
      "Uploading data...\n"
     ]
    },
    {
     "name": "stderr",
     "output_type": "stream",
     "text": [
      "This enrichment will use 2149.2 credits of the 14461 credits your organization currently has.\n"
     ]
    },
    {
     "name": "stdout",
     "output_type": "stream",
     "text": [
      "Enrich Job ID: 6138\n"
     ]
    }
   ],
   "source": [
    "# by testing with small data by analytics.validate function, \n",
    "#'attom_commercial_avm' is for commercial and is less useful than attom_avm\n",
    "new_enrich_job_id = analytics.enrich(['attom_avm'], outputs, validate=False)\n"
   ]
  },
  {
   "cell_type": "code",
   "execution_count": 19,
   "metadata": {},
   "outputs": [
    {
     "name": "stdout",
     "output_type": "stream",
     "text": [
      "attom_avm (done)\n"
     ]
    },
    {
     "data": {
      "text/plain": [
       "True"
      ]
     },
     "execution_count": 19,
     "metadata": {},
     "output_type": "execute_result"
    }
   ],
   "source": [
    "#Enrich Job ID: 6138\n",
    "# delete this row if you want try get new data for enrichment\n",
    "new_enrich_job_id = 6138\n",
    "\n",
    "analytics.enrich_status(new_enrich_job_id)"
   ]
  },
  {
   "cell_type": "code",
   "execution_count": 20,
   "metadata": {},
   "outputs": [],
   "source": [
    "results2 = analytics.enrich_download(new_enrich_job_id, block_until_complete=False)\n"
   ]
  },
  {
   "cell_type": "code",
   "execution_count": 21,
   "metadata": {},
   "outputs": [
    {
     "data": {
      "text/html": [
       "<div>\n",
       "<style scoped>\n",
       "    .dataframe tbody tr th:only-of-type {\n",
       "        vertical-align: middle;\n",
       "    }\n",
       "\n",
       "    .dataframe tbody tr th {\n",
       "        vertical-align: top;\n",
       "    }\n",
       "\n",
       "    .dataframe thead th {\n",
       "        text-align: right;\n",
       "    }\n",
       "</style>\n",
       "<table border=\"1\" class=\"dataframe\">\n",
       "  <thead>\n",
       "    <tr style=\"text-align: right;\">\n",
       "      <th></th>\n",
       "      <th>inputs.attom_id</th>\n",
       "      <th>inputs.city</th>\n",
       "      <th>inputs.country</th>\n",
       "      <th>inputs.post_code</th>\n",
       "      <th>inputs.safety_flag</th>\n",
       "      <th>inputs.state</th>\n",
       "      <th>inputs.street</th>\n",
       "      <th>attom_avm.row_id</th>\n",
       "      <th>attom_avm.client_id</th>\n",
       "      <th>attom_avm.attom_id</th>\n",
       "      <th>attom_avm.confidencescore</th>\n",
       "      <th>attom_avm.createdate</th>\n",
       "      <th>attom_avm.estimatedmaxvalue</th>\n",
       "      <th>attom_avm.estimatedminvalue</th>\n",
       "      <th>attom_avm.estimatedvalue</th>\n",
       "      <th>attom_avm.fsd</th>\n",
       "      <th>attom_avm.lastupdatedate</th>\n",
       "      <th>attom_avm.publicationdate</th>\n",
       "      <th>attom_avm.valuationdate</th>\n",
       "      <th>attom_avm.error</th>\n",
       "    </tr>\n",
       "  </thead>\n",
       "  <tbody>\n",
       "    <tr>\n",
       "      <th>0</th>\n",
       "      <td>172292268</td>\n",
       "      <td>Muskegon</td>\n",
       "      <td>US</td>\n",
       "      <td>49441</td>\n",
       "      <td>False</td>\n",
       "      <td>MI</td>\n",
       "      <td>2134 Lincoln Park Drive</td>\n",
       "      <td>0</td>\n",
       "      <td></td>\n",
       "      <td>172292268</td>\n",
       "      <td>70</td>\n",
       "      <td>2019-05-08</td>\n",
       "      <td>185000.0</td>\n",
       "      <td>126000.0</td>\n",
       "      <td>155000.0</td>\n",
       "      <td>19</td>\n",
       "      <td>2019-05-08</td>\n",
       "      <td>2019-05-23</td>\n",
       "      <td>2019-04-29</td>\n",
       "      <td></td>\n",
       "    </tr>\n",
       "    <tr>\n",
       "      <th>1</th>\n",
       "      <td>8328494</td>\n",
       "      <td>Smithville</td>\n",
       "      <td>US</td>\n",
       "      <td>78957</td>\n",
       "      <td>False</td>\n",
       "      <td>TX</td>\n",
       "      <td>300 Affeld Lane</td>\n",
       "      <td>1</td>\n",
       "      <td></td>\n",
       "      <td></td>\n",
       "      <td></td>\n",
       "      <td></td>\n",
       "      <td></td>\n",
       "      <td></td>\n",
       "      <td></td>\n",
       "      <td></td>\n",
       "      <td></td>\n",
       "      <td></td>\n",
       "      <td></td>\n",
       "      <td></td>\n",
       "    </tr>\n",
       "    <tr>\n",
       "      <th>2</th>\n",
       "      <td>216350563</td>\n",
       "      <td>Iredell</td>\n",
       "      <td>US</td>\n",
       "      <td>76649-4602</td>\n",
       "      <td>False</td>\n",
       "      <td>TX</td>\n",
       "      <td>115 Private Road 2131</td>\n",
       "      <td>2</td>\n",
       "      <td></td>\n",
       "      <td></td>\n",
       "      <td></td>\n",
       "      <td></td>\n",
       "      <td></td>\n",
       "      <td></td>\n",
       "      <td></td>\n",
       "      <td></td>\n",
       "      <td></td>\n",
       "      <td></td>\n",
       "      <td></td>\n",
       "      <td></td>\n",
       "    </tr>\n",
       "    <tr>\n",
       "      <th>3</th>\n",
       "      <td>36125343</td>\n",
       "      <td>Charleston</td>\n",
       "      <td>US</td>\n",
       "      <td>29414</td>\n",
       "      <td>False</td>\n",
       "      <td>SC</td>\n",
       "      <td>7106 Windmill Creek Road</td>\n",
       "      <td>3</td>\n",
       "      <td></td>\n",
       "      <td>36125343</td>\n",
       "      <td>91</td>\n",
       "      <td>2019-05-08</td>\n",
       "      <td>310000.0</td>\n",
       "      <td>251000.0</td>\n",
       "      <td>281000.0</td>\n",
       "      <td>10.0</td>\n",
       "      <td>2019-05-08</td>\n",
       "      <td>2019-05-23</td>\n",
       "      <td>2019-04-29</td>\n",
       "      <td></td>\n",
       "    </tr>\n",
       "    <tr>\n",
       "      <th>4</th>\n",
       "      <td>4070570</td>\n",
       "      <td>Little Elm</td>\n",
       "      <td>US</td>\n",
       "      <td>75068-6309</td>\n",
       "      <td>False</td>\n",
       "      <td>TX</td>\n",
       "      <td>1937 Caddo St</td>\n",
       "      <td>4</td>\n",
       "      <td></td>\n",
       "      <td>4070570</td>\n",
       "      <td>93</td>\n",
       "      <td>2019-05-08</td>\n",
       "      <td>274000.0</td>\n",
       "      <td>227000.0</td>\n",
       "      <td>251000.0</td>\n",
       "      <td>9</td>\n",
       "      <td>2019-05-08</td>\n",
       "      <td>2019-05-23</td>\n",
       "      <td>2019-04-29</td>\n",
       "      <td></td>\n",
       "    </tr>\n",
       "  </tbody>\n",
       "</table>\n",
       "</div>"
      ],
      "text/plain": [
       "   inputs.attom_id inputs.city inputs.country inputs.post_code  \\\n",
       "0        172292268    Muskegon             US            49441   \n",
       "1          8328494  Smithville             US            78957   \n",
       "2        216350563     Iredell             US       76649-4602   \n",
       "3         36125343  Charleston             US            29414   \n",
       "4          4070570  Little Elm             US       75068-6309   \n",
       "\n",
       "   inputs.safety_flag inputs.state             inputs.street  \\\n",
       "0               False           MI   2134 Lincoln Park Drive   \n",
       "1               False           TX           300 Affeld Lane   \n",
       "2               False           TX     115 Private Road 2131   \n",
       "3               False           SC  7106 Windmill Creek Road   \n",
       "4               False           TX             1937 Caddo St   \n",
       "\n",
       "   attom_avm.row_id attom_avm.client_id attom_avm.attom_id  \\\n",
       "0                 0                              172292268   \n",
       "1                 1                                          \n",
       "2                 2                                          \n",
       "3                 3                               36125343   \n",
       "4                 4                                4070570   \n",
       "\n",
       "  attom_avm.confidencescore attom_avm.createdate attom_avm.estimatedmaxvalue  \\\n",
       "0                        70           2019-05-08                    185000.0   \n",
       "1                                                                              \n",
       "2                                                                              \n",
       "3                        91           2019-05-08                    310000.0   \n",
       "4                        93           2019-05-08                    274000.0   \n",
       "\n",
       "  attom_avm.estimatedminvalue attom_avm.estimatedvalue attom_avm.fsd  \\\n",
       "0                    126000.0                 155000.0            19   \n",
       "1                                                                      \n",
       "2                                                                      \n",
       "3                    251000.0                 281000.0          10.0   \n",
       "4                    227000.0                 251000.0             9   \n",
       "\n",
       "  attom_avm.lastupdatedate attom_avm.publicationdate attom_avm.valuationdate  \\\n",
       "0               2019-05-08                2019-05-23              2019-04-29   \n",
       "1                                                                              \n",
       "2                                                                              \n",
       "3               2019-05-08                2019-05-23              2019-04-29   \n",
       "4               2019-05-08                2019-05-23              2019-04-29   \n",
       "\n",
       "  attom_avm.error  \n",
       "0                  \n",
       "1                  \n",
       "2                  \n",
       "3                  \n",
       "4                  "
      ]
     },
     "execution_count": 21,
     "metadata": {},
     "output_type": "execute_result"
    }
   ],
   "source": [
    "results2.head()"
   ]
  },
  {
   "cell_type": "markdown",
   "metadata": {},
   "source": [
    "## 4 Clean data - Last step\n",
    "    Clean data for output and analyzing purpose"
   ]
  },
  {
   "cell_type": "code",
   "execution_count": 22,
   "metadata": {},
   "outputs": [
    {
     "data": {
      "text/plain": [
       "Index(['inputs.attom_id', 'inputs.city', 'inputs.country', 'inputs.post_code',\n",
       "       'inputs.safety_flag', 'inputs.state', 'inputs.street',\n",
       "       'attom_avm.row_id', 'attom_avm.client_id', 'attom_avm.attom_id',\n",
       "       'attom_avm.confidencescore', 'attom_avm.createdate',\n",
       "       'attom_avm.estimatedmaxvalue', 'attom_avm.estimatedminvalue',\n",
       "       'attom_avm.estimatedvalue', 'attom_avm.fsd', 'attom_avm.lastupdatedate',\n",
       "       'attom_avm.publicationdate', 'attom_avm.valuationdate',\n",
       "       'attom_avm.error'],\n",
       "      dtype='object')"
      ]
     },
     "execution_count": 22,
     "metadata": {},
     "output_type": "execute_result"
    }
   ],
   "source": [
    "#get columns\n",
    "results2.columns"
   ]
  },
  {
   "cell_type": "code",
   "execution_count": 23,
   "metadata": {},
   "outputs": [],
   "source": [
    "results2 = results2[['inputs.attom_id','inputs.city', \n",
    "             'inputs.country', 'inputs.state',\n",
    "             'inputs.post_code',\n",
    "              'attom_avm.confidencescore', \n",
    "             'attom_avm.estimatedvalue', 'attom_avm.fsd',\n",
    "             'inputs.safety_flag']]\n"
   ]
  },
  {
   "cell_type": "code",
   "execution_count": 24,
   "metadata": {},
   "outputs": [
    {
     "data": {
      "text/html": [
       "<div>\n",
       "<style scoped>\n",
       "    .dataframe tbody tr th:only-of-type {\n",
       "        vertical-align: middle;\n",
       "    }\n",
       "\n",
       "    .dataframe tbody tr th {\n",
       "        vertical-align: top;\n",
       "    }\n",
       "\n",
       "    .dataframe thead th {\n",
       "        text-align: right;\n",
       "    }\n",
       "</style>\n",
       "<table border=\"1\" class=\"dataframe\">\n",
       "  <thead>\n",
       "    <tr style=\"text-align: right;\">\n",
       "      <th></th>\n",
       "      <th>attom_id</th>\n",
       "      <th>city</th>\n",
       "      <th>country</th>\n",
       "      <th>state</th>\n",
       "      <th>post_code</th>\n",
       "      <th>confidencescore</th>\n",
       "      <th>estimatedvalue</th>\n",
       "      <th>fsd</th>\n",
       "      <th>safety_flag</th>\n",
       "    </tr>\n",
       "  </thead>\n",
       "  <tbody>\n",
       "    <tr>\n",
       "      <th>0</th>\n",
       "      <td>172292268</td>\n",
       "      <td>Muskegon</td>\n",
       "      <td>US</td>\n",
       "      <td>MI</td>\n",
       "      <td>49441</td>\n",
       "      <td>70</td>\n",
       "      <td>155000.0</td>\n",
       "      <td>19</td>\n",
       "      <td>False</td>\n",
       "    </tr>\n",
       "    <tr>\n",
       "      <th>1</th>\n",
       "      <td>8328494</td>\n",
       "      <td>Smithville</td>\n",
       "      <td>US</td>\n",
       "      <td>TX</td>\n",
       "      <td>78957</td>\n",
       "      <td></td>\n",
       "      <td></td>\n",
       "      <td></td>\n",
       "      <td>False</td>\n",
       "    </tr>\n",
       "    <tr>\n",
       "      <th>2</th>\n",
       "      <td>216350563</td>\n",
       "      <td>Iredell</td>\n",
       "      <td>US</td>\n",
       "      <td>TX</td>\n",
       "      <td>76649-4602</td>\n",
       "      <td></td>\n",
       "      <td></td>\n",
       "      <td></td>\n",
       "      <td>False</td>\n",
       "    </tr>\n",
       "    <tr>\n",
       "      <th>3</th>\n",
       "      <td>36125343</td>\n",
       "      <td>Charleston</td>\n",
       "      <td>US</td>\n",
       "      <td>SC</td>\n",
       "      <td>29414</td>\n",
       "      <td>91</td>\n",
       "      <td>281000.0</td>\n",
       "      <td>10.0</td>\n",
       "      <td>False</td>\n",
       "    </tr>\n",
       "    <tr>\n",
       "      <th>4</th>\n",
       "      <td>4070570</td>\n",
       "      <td>Little Elm</td>\n",
       "      <td>US</td>\n",
       "      <td>TX</td>\n",
       "      <td>75068-6309</td>\n",
       "      <td>93</td>\n",
       "      <td>251000.0</td>\n",
       "      <td>9</td>\n",
       "      <td>False</td>\n",
       "    </tr>\n",
       "  </tbody>\n",
       "</table>\n",
       "</div>"
      ],
      "text/plain": [
       "    attom_id        city country state   post_code confidencescore  \\\n",
       "0  172292268    Muskegon      US    MI       49441              70   \n",
       "1    8328494  Smithville      US    TX       78957                   \n",
       "2  216350563     Iredell      US    TX  76649-4602                   \n",
       "3   36125343  Charleston      US    SC       29414              91   \n",
       "4    4070570  Little Elm      US    TX  75068-6309              93   \n",
       "\n",
       "  estimatedvalue   fsd  safety_flag  \n",
       "0       155000.0    19        False  \n",
       "1                             False  \n",
       "2                             False  \n",
       "3       281000.0  10.0        False  \n",
       "4       251000.0     9        False  "
      ]
     },
     "execution_count": 24,
     "metadata": {},
     "output_type": "execute_result"
    }
   ],
   "source": [
    "# reanme the column of the results data prepare for analytics.search\n",
    "results2.columns = results2.columns.map(lambda x : x.split('.')[1])\n",
    "results2.head()"
   ]
  },
  {
   "cell_type": "code",
   "execution_count": 30,
   "metadata": {},
   "outputs": [],
   "source": [
    "outputs2 = results2[(results2['confidencescore']!='') &\n",
    "                    (results2['estimatedvalue']!='') &\n",
    "                    (results2['fsd']!='')\n",
    "                   ]"
   ]
  },
  {
   "cell_type": "code",
   "execution_count": 32,
   "metadata": {},
   "outputs": [
    {
     "data": {
      "text/html": [
       "<div>\n",
       "<style scoped>\n",
       "    .dataframe tbody tr th:only-of-type {\n",
       "        vertical-align: middle;\n",
       "    }\n",
       "\n",
       "    .dataframe tbody tr th {\n",
       "        vertical-align: top;\n",
       "    }\n",
       "\n",
       "    .dataframe thead th {\n",
       "        text-align: right;\n",
       "    }\n",
       "</style>\n",
       "<table border=\"1\" class=\"dataframe\">\n",
       "  <thead>\n",
       "    <tr style=\"text-align: right;\">\n",
       "      <th></th>\n",
       "      <th>attom_id</th>\n",
       "      <th>city</th>\n",
       "      <th>country</th>\n",
       "      <th>state</th>\n",
       "      <th>post_code</th>\n",
       "      <th>confidencescore</th>\n",
       "      <th>estimatedvalue</th>\n",
       "      <th>fsd</th>\n",
       "      <th>safety_flag</th>\n",
       "    </tr>\n",
       "  </thead>\n",
       "  <tbody>\n",
       "    <tr>\n",
       "      <th>0</th>\n",
       "      <td>172292268</td>\n",
       "      <td>Muskegon</td>\n",
       "      <td>US</td>\n",
       "      <td>MI</td>\n",
       "      <td>49441</td>\n",
       "      <td>70</td>\n",
       "      <td>155000.0</td>\n",
       "      <td>19</td>\n",
       "      <td>False</td>\n",
       "    </tr>\n",
       "    <tr>\n",
       "      <th>3</th>\n",
       "      <td>36125343</td>\n",
       "      <td>Charleston</td>\n",
       "      <td>US</td>\n",
       "      <td>SC</td>\n",
       "      <td>29414</td>\n",
       "      <td>91</td>\n",
       "      <td>281000.0</td>\n",
       "      <td>10.0</td>\n",
       "      <td>False</td>\n",
       "    </tr>\n",
       "    <tr>\n",
       "      <th>4</th>\n",
       "      <td>4070570</td>\n",
       "      <td>Little Elm</td>\n",
       "      <td>US</td>\n",
       "      <td>TX</td>\n",
       "      <td>75068-6309</td>\n",
       "      <td>93</td>\n",
       "      <td>251000.0</td>\n",
       "      <td>9</td>\n",
       "      <td>False</td>\n",
       "    </tr>\n",
       "    <tr>\n",
       "      <th>5</th>\n",
       "      <td>18937891</td>\n",
       "      <td>Winthrop</td>\n",
       "      <td>US</td>\n",
       "      <td>MA</td>\n",
       "      <td>2152</td>\n",
       "      <td>68</td>\n",
       "      <td>508000.0</td>\n",
       "      <td>20.0</td>\n",
       "      <td>False</td>\n",
       "    </tr>\n",
       "    <tr>\n",
       "      <th>6</th>\n",
       "      <td>2316243</td>\n",
       "      <td>Milwaukee</td>\n",
       "      <td>US</td>\n",
       "      <td>WI</td>\n",
       "      <td>53217-4732</td>\n",
       "      <td>86</td>\n",
       "      <td>405000.0</td>\n",
       "      <td>12</td>\n",
       "      <td>False</td>\n",
       "    </tr>\n",
       "  </tbody>\n",
       "</table>\n",
       "</div>"
      ],
      "text/plain": [
       "    attom_id        city country state   post_code confidencescore  \\\n",
       "0  172292268    Muskegon      US    MI       49441              70   \n",
       "3   36125343  Charleston      US    SC       29414              91   \n",
       "4    4070570  Little Elm      US    TX  75068-6309              93   \n",
       "5   18937891    Winthrop      US    MA        2152              68   \n",
       "6    2316243   Milwaukee      US    WI  53217-4732              86   \n",
       "\n",
       "  estimatedvalue   fsd  safety_flag  \n",
       "0       155000.0    19        False  \n",
       "3       281000.0  10.0        False  \n",
       "4       251000.0     9        False  \n",
       "5       508000.0  20.0        False  \n",
       "6       405000.0    12        False  "
      ]
     },
     "execution_count": 32,
     "metadata": {},
     "output_type": "execute_result"
    }
   ],
   "source": [
    "\n",
    "outputs2.head()"
   ]
  },
  {
   "cell_type": "code",
   "execution_count": 148,
   "metadata": {},
   "outputs": [],
   "source": [
    "outputs2.to_dense().to_csv('outputs2.csv', index = False, sep=',', encoding='utf-8')\n"
   ]
  },
  {
   "cell_type": "code",
   "execution_count": null,
   "metadata": {},
   "outputs": [],
   "source": []
  }
 ],
 "metadata": {
  "kernelspec": {
   "display_name": "Python 3",
   "language": "python",
   "name": "python3"
  },
  "language_info": {
   "codemirror_mode": {
    "name": "ipython",
    "version": 3
   },
   "file_extension": ".py",
   "mimetype": "text/x-python",
   "name": "python",
   "nbconvert_exporter": "python",
   "pygments_lexer": "ipython3",
   "version": "3.7.3"
  }
 },
 "nbformat": 4,
 "nbformat_minor": 2
}
